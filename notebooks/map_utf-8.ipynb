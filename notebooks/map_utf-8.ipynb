{
 "cells": [
  {
   "cell_type": "code",
   "execution_count": 2,
   "metadata": {},
   "outputs": [],
   "source": [
    "import geopandas as gpd\n",
    "import pandas as pd\n",
    "import folium, branca\n",
    "import fiona, requests, json\n",
    "import os\n",
    "import fiona.crs\n",
    "import requests\n",
    "import fiona\n",
    " \n",
    "\n",
    "from folium.features import GeoJson, GeoJsonTooltip"
   ]
  },
  {
   "cell_type": "code",
   "execution_count": null,
   "metadata": {},
   "outputs": [],
   "source": [
    "print(folium.__version__)"
   ]
  },
  {
   "cell_type": "code",
   "execution_count": null,
   "metadata": {},
   "outputs": [],
   "source": [
    "for i in range(31,35):\n",
    "    endND = os.path.join('geojs-'+str(i)+'-mun.json')\n",
    "    geo_json_ND = json.load(open(endND, encoding='latin-1'))\n",
    "    \n",
    "    if i == 31:\n",
    "        geo_json_NDX = geo_json_ND\n",
    "        \n",
    "    else:\n",
    "         for city in geo_json_ND['features']:\n",
    "                geo_json_NDX['features'].append(city)"
   ]
  },
  {
   "cell_type": "code",
   "execution_count": null,
   "metadata": {},
   "outputs": [],
   "source": []
  },
  {
   "cell_type": "code",
   "execution_count": 294,
   "metadata": {},
   "outputs": [
    {
     "name": "stderr",
     "output_type": "stream",
     "text": [
      "/home/lucas/.local/lib/python3.6/site-packages/pyproj/crs/crs.py:55: FutureWarning: '+init=<authority>:<code>' syntax is deprecated. '<authority>:<code>' is the preferred initialization method. When making the change, be mindful of axis order changes: https://pyproj4.github.io/pyproj/stable/gotchas.html#axis-order-changes-in-proj-6\n",
      "  return _prepare_from_string(\" \".join(pjargs))\n"
     ]
    }
   ],
   "source": [
    "cidades = gpd.GeoDataFrame.from_features(requests.get('https://raw.githubusercontent.com/tbrugz/geodata-br/master/geojson/geojs-33-mun.json'+'https://raw.githubusercontent.com/tbrugz/geodata-br/master/geojson/geojs-35-mun.json', headers={\"content-type\":\"application/json;charset=UTF-8\"}).json(), crs=fiona.crs.from_epsg(4326))"
   ]
  },
  {
   "cell_type": "code",
   "execution_count": 295,
   "metadata": {},
   "outputs": [
    {
     "data": {
      "text/html": [
       "<div>\n",
       "<style scoped>\n",
       "    .dataframe tbody tr th:only-of-type {\n",
       "        vertical-align: middle;\n",
       "    }\n",
       "\n",
       "    .dataframe tbody tr th {\n",
       "        vertical-align: top;\n",
       "    }\n",
       "\n",
       "    .dataframe thead th {\n",
       "        text-align: right;\n",
       "    }\n",
       "</style>\n",
       "<table border=\"1\" class=\"dataframe\">\n",
       "  <thead>\n",
       "    <tr style=\"text-align: right;\">\n",
       "      <th></th>\n",
       "      <th>geometry</th>\n",
       "      <th>id</th>\n",
       "      <th>name</th>\n",
       "      <th>description</th>\n",
       "    </tr>\n",
       "  </thead>\n",
       "  <tbody>\n",
       "    <tr>\n",
       "      <th>0</th>\n",
       "      <td>POLYGON ((-51.05787 -21.39888, -51.05365 -21.4...</td>\n",
       "      <td>3500105</td>\n",
       "      <td>Adamantina</td>\n",
       "      <td>Adamantina</td>\n",
       "    </tr>\n",
       "    <tr>\n",
       "      <th>1</th>\n",
       "      <td>POLYGON ((-49.65478 -21.20607, -49.63847 -21.2...</td>\n",
       "      <td>3500204</td>\n",
       "      <td>Adolfo</td>\n",
       "      <td>Adolfo</td>\n",
       "    </tr>\n",
       "    <tr>\n",
       "      <th>2</th>\n",
       "      <td>POLYGON ((-47.20890 -21.97129, -47.20297 -21.9...</td>\n",
       "      <td>3500303</td>\n",
       "      <td>Agua�</td>\n",
       "      <td>Agua�</td>\n",
       "    </tr>\n",
       "    <tr>\n",
       "      <th>3</th>\n",
       "      <td>POLYGON ((-46.70755 -21.82895, -46.70380 -21.8...</td>\n",
       "      <td>3500402</td>\n",
       "      <td>�guas da Prata</td>\n",
       "      <td>�guas da Prata</td>\n",
       "    </tr>\n",
       "    <tr>\n",
       "      <th>4</th>\n",
       "      <td>POLYGON ((-46.61147 -22.43496, -46.60302 -22.4...</td>\n",
       "      <td>3500501</td>\n",
       "      <td>�guas de Lind�ia</td>\n",
       "      <td>�guas de Lind�ia</td>\n",
       "    </tr>\n",
       "    <tr>\n",
       "      <th>...</th>\n",
       "      <td>...</td>\n",
       "      <td>...</td>\n",
       "      <td>...</td>\n",
       "      <td>...</td>\n",
       "    </tr>\n",
       "    <tr>\n",
       "      <th>640</th>\n",
       "      <td>POLYGON ((-47.37268 -23.51783, -47.37047 -23.5...</td>\n",
       "      <td>3557006</td>\n",
       "      <td>Votorantim</td>\n",
       "      <td>Votorantim</td>\n",
       "    </tr>\n",
       "    <tr>\n",
       "      <th>641</th>\n",
       "      <td>POLYGON ((-50.02073 -20.33347, -50.01275 -20.3...</td>\n",
       "      <td>3557105</td>\n",
       "      <td>Votuporanga</td>\n",
       "      <td>Votuporanga</td>\n",
       "    </tr>\n",
       "    <tr>\n",
       "      <th>642</th>\n",
       "      <td>POLYGON ((-49.99521 -21.03253, -49.98434 -21.0...</td>\n",
       "      <td>3557154</td>\n",
       "      <td>Zacarias</td>\n",
       "      <td>Zacarias</td>\n",
       "    </tr>\n",
       "    <tr>\n",
       "      <th>643</th>\n",
       "      <td>POLYGON ((-49.68539 -22.94866, -49.68396 -22.9...</td>\n",
       "      <td>3557204</td>\n",
       "      <td>Chavantes</td>\n",
       "      <td>Chavantes</td>\n",
       "    </tr>\n",
       "    <tr>\n",
       "      <th>644</th>\n",
       "      <td>POLYGON ((-46.91399 -22.19933, -46.91221 -22.2...</td>\n",
       "      <td>3557303</td>\n",
       "      <td>Estiva Gerbi</td>\n",
       "      <td>Estiva Gerbi</td>\n",
       "    </tr>\n",
       "  </tbody>\n",
       "</table>\n",
       "<p>645 rows × 4 columns</p>\n",
       "</div>"
      ],
      "text/plain": [
       "                                              geometry       id  \\\n",
       "0    POLYGON ((-51.05787 -21.39888, -51.05365 -21.4...  3500105   \n",
       "1    POLYGON ((-49.65478 -21.20607, -49.63847 -21.2...  3500204   \n",
       "2    POLYGON ((-47.20890 -21.97129, -47.20297 -21.9...  3500303   \n",
       "3    POLYGON ((-46.70755 -21.82895, -46.70380 -21.8...  3500402   \n",
       "4    POLYGON ((-46.61147 -22.43496, -46.60302 -22.4...  3500501   \n",
       "..                                                 ...      ...   \n",
       "640  POLYGON ((-47.37268 -23.51783, -47.37047 -23.5...  3557006   \n",
       "641  POLYGON ((-50.02073 -20.33347, -50.01275 -20.3...  3557105   \n",
       "642  POLYGON ((-49.99521 -21.03253, -49.98434 -21.0...  3557154   \n",
       "643  POLYGON ((-49.68539 -22.94866, -49.68396 -22.9...  3557204   \n",
       "644  POLYGON ((-46.91399 -22.19933, -46.91221 -22.2...  3557303   \n",
       "\n",
       "                 name       description  \n",
       "0          Adamantina        Adamantina  \n",
       "1              Adolfo            Adolfo  \n",
       "2               Agua�             Agua�  \n",
       "3      �guas da Prata    �guas da Prata  \n",
       "4    �guas de Lind�ia  �guas de Lind�ia  \n",
       "..                ...               ...  \n",
       "640        Votorantim        Votorantim  \n",
       "641       Votuporanga       Votuporanga  \n",
       "642          Zacarias          Zacarias  \n",
       "643         Chavantes         Chavantes  \n",
       "644      Estiva Gerbi      Estiva Gerbi  \n",
       "\n",
       "[645 rows x 4 columns]"
      ]
     },
     "execution_count": 295,
     "metadata": {},
     "output_type": "execute_result"
    }
   ],
   "source": [
    "cidades"
   ]
  },
  {
   "cell_type": "code",
   "execution_count": 296,
   "metadata": {},
   "outputs": [
    {
     "name": "stderr",
     "output_type": "stream",
     "text": [
      "/home/lucas/.local/lib/python3.6/site-packages/pyproj/crs/crs.py:55: FutureWarning: '+init=<authority>:<code>' syntax is deprecated. '<authority>:<code>' is the preferred initialization method. When making the change, be mindful of axis order changes: https://pyproj4.github.io/pyproj/stable/gotchas.html#axis-order-changes-in-proj-6\n",
      "  return _prepare_from_string(\" \".join(pjargs))\n"
     ]
    }
   ],
   "source": [
    "cidades2 = gpd.GeoDataFrame.from_features(requests.get('https://raw.githubusercontent.com/tbrugz/geodata-br/master/geojson/geojs-32-mun.json'+'https://raw.githubusercontent.com/tbrugz/geodata-br/master/geojson/geojs-31-mun.json').json(), crs=fiona.crs.from_epsg(4326))"
   ]
  },
  {
   "cell_type": "code",
   "execution_count": 297,
   "metadata": {},
   "outputs": [
    {
     "data": {
      "text/html": [
       "<div>\n",
       "<style scoped>\n",
       "    .dataframe tbody tr th:only-of-type {\n",
       "        vertical-align: middle;\n",
       "    }\n",
       "\n",
       "    .dataframe tbody tr th {\n",
       "        vertical-align: top;\n",
       "    }\n",
       "\n",
       "    .dataframe thead th {\n",
       "        text-align: right;\n",
       "    }\n",
       "</style>\n",
       "<table border=\"1\" class=\"dataframe\">\n",
       "  <thead>\n",
       "    <tr style=\"text-align: right;\">\n",
       "      <th></th>\n",
       "      <th>geometry</th>\n",
       "      <th>id</th>\n",
       "      <th>name</th>\n",
       "      <th>description</th>\n",
       "    </tr>\n",
       "  </thead>\n",
       "  <tbody>\n",
       "    <tr>\n",
       "      <th>0</th>\n",
       "      <td>POLYGON ((-47.44410 -18.15847, -47.43543 -18.1...</td>\n",
       "      <td>3100104</td>\n",
       "      <td>Abadia dos Dourados</td>\n",
       "      <td>Abadia dos Dourados</td>\n",
       "    </tr>\n",
       "    <tr>\n",
       "      <th>1</th>\n",
       "      <td>POLYGON ((-45.18200 -18.88757, -45.17314 -18.8...</td>\n",
       "      <td>3100203</td>\n",
       "      <td>Abaet�</td>\n",
       "      <td>Abaet�</td>\n",
       "    </tr>\n",
       "    <tr>\n",
       "      <th>2</th>\n",
       "      <td>POLYGON ((-42.36955 -20.13218, -42.35755 -20.1...</td>\n",
       "      <td>3100302</td>\n",
       "      <td>Abre Campo</td>\n",
       "      <td>Abre Campo</td>\n",
       "    </tr>\n",
       "    <tr>\n",
       "      <th>3</th>\n",
       "      <td>POLYGON ((-43.11391 -20.35784, -43.10969 -20.3...</td>\n",
       "      <td>3100401</td>\n",
       "      <td>Acaiaca</td>\n",
       "      <td>Acaiaca</td>\n",
       "    </tr>\n",
       "    <tr>\n",
       "      <th>4</th>\n",
       "      <td>POLYGON ((-42.38592 -18.92388, -42.38140 -18.9...</td>\n",
       "      <td>3100500</td>\n",
       "      <td>A�ucena</td>\n",
       "      <td>A�ucena</td>\n",
       "    </tr>\n",
       "    <tr>\n",
       "      <th>...</th>\n",
       "      <td>...</td>\n",
       "      <td>...</td>\n",
       "      <td>...</td>\n",
       "      <td>...</td>\n",
       "    </tr>\n",
       "    <tr>\n",
       "      <th>848</th>\n",
       "      <td>POLYGON ((-42.70675 -18.66017, -42.68531 -18.6...</td>\n",
       "      <td>3171808</td>\n",
       "      <td>Virgin�polis</td>\n",
       "      <td>Virgin�polis</td>\n",
       "    </tr>\n",
       "    <tr>\n",
       "      <th>849</th>\n",
       "      <td>POLYGON ((-42.32194 -18.35613, -42.32256 -18.3...</td>\n",
       "      <td>3171907</td>\n",
       "      <td>Virgol�ndia</td>\n",
       "      <td>Virgol�ndia</td>\n",
       "    </tr>\n",
       "    <tr>\n",
       "      <th>850</th>\n",
       "      <td>POLYGON ((-42.88457 -20.93903, -42.88098 -20.9...</td>\n",
       "      <td>3172004</td>\n",
       "      <td>Visconde do Rio Branco</td>\n",
       "      <td>Visconde do Rio Branco</td>\n",
       "    </tr>\n",
       "    <tr>\n",
       "      <th>851</th>\n",
       "      <td>POLYGON ((-42.53029 -21.69567, -42.52692 -21.7...</td>\n",
       "      <td>3172103</td>\n",
       "      <td>Volta Grande</td>\n",
       "      <td>Volta Grande</td>\n",
       "    </tr>\n",
       "    <tr>\n",
       "      <th>852</th>\n",
       "      <td>POLYGON ((-45.33666 -22.51827, -45.34478 -22.5...</td>\n",
       "      <td>3172202</td>\n",
       "      <td>Wenceslau Braz</td>\n",
       "      <td>Wenceslau Braz</td>\n",
       "    </tr>\n",
       "  </tbody>\n",
       "</table>\n",
       "<p>853 rows × 4 columns</p>\n",
       "</div>"
      ],
      "text/plain": [
       "                                              geometry       id  \\\n",
       "0    POLYGON ((-47.44410 -18.15847, -47.43543 -18.1...  3100104   \n",
       "1    POLYGON ((-45.18200 -18.88757, -45.17314 -18.8...  3100203   \n",
       "2    POLYGON ((-42.36955 -20.13218, -42.35755 -20.1...  3100302   \n",
       "3    POLYGON ((-43.11391 -20.35784, -43.10969 -20.3...  3100401   \n",
       "4    POLYGON ((-42.38592 -18.92388, -42.38140 -18.9...  3100500   \n",
       "..                                                 ...      ...   \n",
       "848  POLYGON ((-42.70675 -18.66017, -42.68531 -18.6...  3171808   \n",
       "849  POLYGON ((-42.32194 -18.35613, -42.32256 -18.3...  3171907   \n",
       "850  POLYGON ((-42.88457 -20.93903, -42.88098 -20.9...  3172004   \n",
       "851  POLYGON ((-42.53029 -21.69567, -42.52692 -21.7...  3172103   \n",
       "852  POLYGON ((-45.33666 -22.51827, -45.34478 -22.5...  3172202   \n",
       "\n",
       "                       name             description  \n",
       "0       Abadia dos Dourados     Abadia dos Dourados  \n",
       "1                    Abaet�                  Abaet�  \n",
       "2                Abre Campo              Abre Campo  \n",
       "3                   Acaiaca                 Acaiaca  \n",
       "4                   A�ucena                 A�ucena  \n",
       "..                      ...                     ...  \n",
       "848            Virgin�polis            Virgin�polis  \n",
       "849             Virgol�ndia             Virgol�ndia  \n",
       "850  Visconde do Rio Branco  Visconde do Rio Branco  \n",
       "851            Volta Grande            Volta Grande  \n",
       "852          Wenceslau Braz          Wenceslau Braz  \n",
       "\n",
       "[853 rows x 4 columns]"
      ]
     },
     "execution_count": 297,
     "metadata": {},
     "output_type": "execute_result"
    }
   ],
   "source": [
    "cidades2"
   ]
  },
  {
   "cell_type": "code",
   "execution_count": 298,
   "metadata": {},
   "outputs": [],
   "source": [
    "allcities = cidades.append(cidades2, ignore_index=True)"
   ]
  },
  {
   "cell_type": "code",
   "execution_count": 299,
   "metadata": {
    "scrolled": true
   },
   "outputs": [
    {
     "data": {
      "text/plain": [
       "geopandas.geodataframe.GeoDataFrame"
      ]
     },
     "execution_count": 299,
     "metadata": {},
     "output_type": "execute_result"
    }
   ],
   "source": [
    "type(allcities)"
   ]
  },
  {
   "cell_type": "code",
   "execution_count": 300,
   "metadata": {},
   "outputs": [
    {
     "data": {
      "text/html": [
       "<div>\n",
       "<style scoped>\n",
       "    .dataframe tbody tr th:only-of-type {\n",
       "        vertical-align: middle;\n",
       "    }\n",
       "\n",
       "    .dataframe tbody tr th {\n",
       "        vertical-align: top;\n",
       "    }\n",
       "\n",
       "    .dataframe thead th {\n",
       "        text-align: right;\n",
       "    }\n",
       "</style>\n",
       "<table border=\"1\" class=\"dataframe\">\n",
       "  <thead>\n",
       "    <tr style=\"text-align: right;\">\n",
       "      <th></th>\n",
       "      <th>geometry</th>\n",
       "      <th>id</th>\n",
       "      <th>name</th>\n",
       "      <th>description</th>\n",
       "    </tr>\n",
       "  </thead>\n",
       "  <tbody>\n",
       "    <tr>\n",
       "      <th>0</th>\n",
       "      <td>POLYGON ((-51.05787 -21.39888, -51.05365 -21.4...</td>\n",
       "      <td>3500105</td>\n",
       "      <td>Adamantina</td>\n",
       "      <td>Adamantina</td>\n",
       "    </tr>\n",
       "    <tr>\n",
       "      <th>1</th>\n",
       "      <td>POLYGON ((-49.65478 -21.20607, -49.63847 -21.2...</td>\n",
       "      <td>3500204</td>\n",
       "      <td>Adolfo</td>\n",
       "      <td>Adolfo</td>\n",
       "    </tr>\n",
       "    <tr>\n",
       "      <th>2</th>\n",
       "      <td>POLYGON ((-47.20890 -21.97129, -47.20297 -21.9...</td>\n",
       "      <td>3500303</td>\n",
       "      <td>Agua�</td>\n",
       "      <td>Agua�</td>\n",
       "    </tr>\n",
       "    <tr>\n",
       "      <th>3</th>\n",
       "      <td>POLYGON ((-46.70755 -21.82895, -46.70380 -21.8...</td>\n",
       "      <td>3500402</td>\n",
       "      <td>�guas da Prata</td>\n",
       "      <td>�guas da Prata</td>\n",
       "    </tr>\n",
       "    <tr>\n",
       "      <th>4</th>\n",
       "      <td>POLYGON ((-46.61147 -22.43496, -46.60302 -22.4...</td>\n",
       "      <td>3500501</td>\n",
       "      <td>�guas de Lind�ia</td>\n",
       "      <td>�guas de Lind�ia</td>\n",
       "    </tr>\n",
       "    <tr>\n",
       "      <th>...</th>\n",
       "      <td>...</td>\n",
       "      <td>...</td>\n",
       "      <td>...</td>\n",
       "      <td>...</td>\n",
       "    </tr>\n",
       "    <tr>\n",
       "      <th>1493</th>\n",
       "      <td>POLYGON ((-42.70675 -18.66017, -42.68531 -18.6...</td>\n",
       "      <td>3171808</td>\n",
       "      <td>Virgin�polis</td>\n",
       "      <td>Virgin�polis</td>\n",
       "    </tr>\n",
       "    <tr>\n",
       "      <th>1494</th>\n",
       "      <td>POLYGON ((-42.32194 -18.35613, -42.32256 -18.3...</td>\n",
       "      <td>3171907</td>\n",
       "      <td>Virgol�ndia</td>\n",
       "      <td>Virgol�ndia</td>\n",
       "    </tr>\n",
       "    <tr>\n",
       "      <th>1495</th>\n",
       "      <td>POLYGON ((-42.88457 -20.93903, -42.88098 -20.9...</td>\n",
       "      <td>3172004</td>\n",
       "      <td>Visconde do Rio Branco</td>\n",
       "      <td>Visconde do Rio Branco</td>\n",
       "    </tr>\n",
       "    <tr>\n",
       "      <th>1496</th>\n",
       "      <td>POLYGON ((-42.53029 -21.69567, -42.52692 -21.7...</td>\n",
       "      <td>3172103</td>\n",
       "      <td>Volta Grande</td>\n",
       "      <td>Volta Grande</td>\n",
       "    </tr>\n",
       "    <tr>\n",
       "      <th>1497</th>\n",
       "      <td>POLYGON ((-45.33666 -22.51827, -45.34478 -22.5...</td>\n",
       "      <td>3172202</td>\n",
       "      <td>Wenceslau Braz</td>\n",
       "      <td>Wenceslau Braz</td>\n",
       "    </tr>\n",
       "  </tbody>\n",
       "</table>\n",
       "<p>1498 rows × 4 columns</p>\n",
       "</div>"
      ],
      "text/plain": [
       "                                               geometry       id  \\\n",
       "0     POLYGON ((-51.05787 -21.39888, -51.05365 -21.4...  3500105   \n",
       "1     POLYGON ((-49.65478 -21.20607, -49.63847 -21.2...  3500204   \n",
       "2     POLYGON ((-47.20890 -21.97129, -47.20297 -21.9...  3500303   \n",
       "3     POLYGON ((-46.70755 -21.82895, -46.70380 -21.8...  3500402   \n",
       "4     POLYGON ((-46.61147 -22.43496, -46.60302 -22.4...  3500501   \n",
       "...                                                 ...      ...   \n",
       "1493  POLYGON ((-42.70675 -18.66017, -42.68531 -18.6...  3171808   \n",
       "1494  POLYGON ((-42.32194 -18.35613, -42.32256 -18.3...  3171907   \n",
       "1495  POLYGON ((-42.88457 -20.93903, -42.88098 -20.9...  3172004   \n",
       "1496  POLYGON ((-42.53029 -21.69567, -42.52692 -21.7...  3172103   \n",
       "1497  POLYGON ((-45.33666 -22.51827, -45.34478 -22.5...  3172202   \n",
       "\n",
       "                        name             description  \n",
       "0                 Adamantina              Adamantina  \n",
       "1                     Adolfo                  Adolfo  \n",
       "2                      Agua�                   Agua�  \n",
       "3             �guas da Prata          �guas da Prata  \n",
       "4           �guas de Lind�ia        �guas de Lind�ia  \n",
       "...                      ...                     ...  \n",
       "1493            Virgin�polis            Virgin�polis  \n",
       "1494             Virgol�ndia             Virgol�ndia  \n",
       "1495  Visconde do Rio Branco  Visconde do Rio Branco  \n",
       "1496            Volta Grande            Volta Grande  \n",
       "1497          Wenceslau Braz          Wenceslau Braz  \n",
       "\n",
       "[1498 rows x 4 columns]"
      ]
     },
     "execution_count": 300,
     "metadata": {},
     "output_type": "execute_result"
    }
   ],
   "source": [
    "\n",
    "allcities"
   ]
  },
  {
   "cell_type": "code",
   "execution_count": 301,
   "metadata": {},
   "outputs": [],
   "source": [
    "def corrigir_nomes(nome):\n",
    "    nome = nome.replace('ã','a').replace('Á','A')\n",
    "    return nome"
   ]
  },
  {
   "cell_type": "code",
   "execution_count": 302,
   "metadata": {},
   "outputs": [],
   "source": [
    "allcities['name'] = allcities['name'].apply(corrigir_nomes)"
   ]
  },
  {
   "cell_type": "code",
   "execution_count": 303,
   "metadata": {},
   "outputs": [
    {
     "data": {
      "text/html": [
       "<div>\n",
       "<style scoped>\n",
       "    .dataframe tbody tr th:only-of-type {\n",
       "        vertical-align: middle;\n",
       "    }\n",
       "\n",
       "    .dataframe tbody tr th {\n",
       "        vertical-align: top;\n",
       "    }\n",
       "\n",
       "    .dataframe thead th {\n",
       "        text-align: right;\n",
       "    }\n",
       "</style>\n",
       "<table border=\"1\" class=\"dataframe\">\n",
       "  <thead>\n",
       "    <tr style=\"text-align: right;\">\n",
       "      <th></th>\n",
       "      <th>geometry</th>\n",
       "      <th>id</th>\n",
       "      <th>name</th>\n",
       "      <th>description</th>\n",
       "    </tr>\n",
       "  </thead>\n",
       "  <tbody>\n",
       "    <tr>\n",
       "      <th>0</th>\n",
       "      <td>POLYGON ((-51.05787 -21.39888, -51.05365 -21.4...</td>\n",
       "      <td>3500105</td>\n",
       "      <td>Adamantina</td>\n",
       "      <td>Adamantina</td>\n",
       "    </tr>\n",
       "    <tr>\n",
       "      <th>1</th>\n",
       "      <td>POLYGON ((-49.65478 -21.20607, -49.63847 -21.2...</td>\n",
       "      <td>3500204</td>\n",
       "      <td>Adolfo</td>\n",
       "      <td>Adolfo</td>\n",
       "    </tr>\n",
       "    <tr>\n",
       "      <th>2</th>\n",
       "      <td>POLYGON ((-47.20890 -21.97129, -47.20297 -21.9...</td>\n",
       "      <td>3500303</td>\n",
       "      <td>Agua�</td>\n",
       "      <td>Agua�</td>\n",
       "    </tr>\n",
       "    <tr>\n",
       "      <th>3</th>\n",
       "      <td>POLYGON ((-46.70755 -21.82895, -46.70380 -21.8...</td>\n",
       "      <td>3500402</td>\n",
       "      <td>�guas da Prata</td>\n",
       "      <td>�guas da Prata</td>\n",
       "    </tr>\n",
       "    <tr>\n",
       "      <th>4</th>\n",
       "      <td>POLYGON ((-46.61147 -22.43496, -46.60302 -22.4...</td>\n",
       "      <td>3500501</td>\n",
       "      <td>�guas de Lind�ia</td>\n",
       "      <td>�guas de Lind�ia</td>\n",
       "    </tr>\n",
       "    <tr>\n",
       "      <th>...</th>\n",
       "      <td>...</td>\n",
       "      <td>...</td>\n",
       "      <td>...</td>\n",
       "      <td>...</td>\n",
       "    </tr>\n",
       "    <tr>\n",
       "      <th>1493</th>\n",
       "      <td>POLYGON ((-42.70675 -18.66017, -42.68531 -18.6...</td>\n",
       "      <td>3171808</td>\n",
       "      <td>Virgin�polis</td>\n",
       "      <td>Virgin�polis</td>\n",
       "    </tr>\n",
       "    <tr>\n",
       "      <th>1494</th>\n",
       "      <td>POLYGON ((-42.32194 -18.35613, -42.32256 -18.3...</td>\n",
       "      <td>3171907</td>\n",
       "      <td>Virgol�ndia</td>\n",
       "      <td>Virgol�ndia</td>\n",
       "    </tr>\n",
       "    <tr>\n",
       "      <th>1495</th>\n",
       "      <td>POLYGON ((-42.88457 -20.93903, -42.88098 -20.9...</td>\n",
       "      <td>3172004</td>\n",
       "      <td>Visconde do Rio Branco</td>\n",
       "      <td>Visconde do Rio Branco</td>\n",
       "    </tr>\n",
       "    <tr>\n",
       "      <th>1496</th>\n",
       "      <td>POLYGON ((-42.53029 -21.69567, -42.52692 -21.7...</td>\n",
       "      <td>3172103</td>\n",
       "      <td>Volta Grande</td>\n",
       "      <td>Volta Grande</td>\n",
       "    </tr>\n",
       "    <tr>\n",
       "      <th>1497</th>\n",
       "      <td>POLYGON ((-45.33666 -22.51827, -45.34478 -22.5...</td>\n",
       "      <td>3172202</td>\n",
       "      <td>Wenceslau Braz</td>\n",
       "      <td>Wenceslau Braz</td>\n",
       "    </tr>\n",
       "  </tbody>\n",
       "</table>\n",
       "<p>1498 rows × 4 columns</p>\n",
       "</div>"
      ],
      "text/plain": [
       "                                               geometry       id  \\\n",
       "0     POLYGON ((-51.05787 -21.39888, -51.05365 -21.4...  3500105   \n",
       "1     POLYGON ((-49.65478 -21.20607, -49.63847 -21.2...  3500204   \n",
       "2     POLYGON ((-47.20890 -21.97129, -47.20297 -21.9...  3500303   \n",
       "3     POLYGON ((-46.70755 -21.82895, -46.70380 -21.8...  3500402   \n",
       "4     POLYGON ((-46.61147 -22.43496, -46.60302 -22.4...  3500501   \n",
       "...                                                 ...      ...   \n",
       "1493  POLYGON ((-42.70675 -18.66017, -42.68531 -18.6...  3171808   \n",
       "1494  POLYGON ((-42.32194 -18.35613, -42.32256 -18.3...  3171907   \n",
       "1495  POLYGON ((-42.88457 -20.93903, -42.88098 -20.9...  3172004   \n",
       "1496  POLYGON ((-42.53029 -21.69567, -42.52692 -21.7...  3172103   \n",
       "1497  POLYGON ((-45.33666 -22.51827, -45.34478 -22.5...  3172202   \n",
       "\n",
       "                        name             description  \n",
       "0                 Adamantina              Adamantina  \n",
       "1                     Adolfo                  Adolfo  \n",
       "2                      Agua�                   Agua�  \n",
       "3             �guas da Prata          �guas da Prata  \n",
       "4           �guas de Lind�ia        �guas de Lind�ia  \n",
       "...                      ...                     ...  \n",
       "1493            Virgin�polis            Virgin�polis  \n",
       "1494             Virgol�ndia             Virgol�ndia  \n",
       "1495  Visconde do Rio Branco  Visconde do Rio Branco  \n",
       "1496            Volta Grande            Volta Grande  \n",
       "1497          Wenceslau Braz          Wenceslau Braz  \n",
       "\n",
       "[1498 rows x 4 columns]"
      ]
     },
     "execution_count": 303,
     "metadata": {},
     "output_type": "execute_result"
    }
   ],
   "source": [
    "allcities"
   ]
  },
  {
   "cell_type": "code",
   "execution_count": 3,
   "metadata": {},
   "outputs": [
    {
     "ename": "FileNotFoundError",
     "evalue": "[Errno 2] No such file or directory: 'geojs-31-mun.json'",
     "output_type": "error",
     "traceback": [
      "\u001b[0;31m---------------------------------------------------------------------------\u001b[0m",
      "\u001b[0;31mFileNotFoundError\u001b[0m                         Traceback (most recent call last)",
      "\u001b[0;32m<ipython-input-3-5adee4c32117>\u001b[0m in \u001b[0;36m<module>\u001b[0;34m\u001b[0m\n\u001b[0;32m----> 1\u001b[0;31m \u001b[0mmap31\u001b[0m \u001b[0;34m=\u001b[0m \u001b[0mjson\u001b[0m\u001b[0;34m.\u001b[0m\u001b[0mload\u001b[0m\u001b[0;34m(\u001b[0m\u001b[0mopen\u001b[0m\u001b[0;34m(\u001b[0m\u001b[0;34m'geojs-31-mun.json'\u001b[0m\u001b[0;34m,\u001b[0m \u001b[0mencoding\u001b[0m\u001b[0;34m=\u001b[0m\u001b[0;34m'latin-1'\u001b[0m\u001b[0;34m)\u001b[0m\u001b[0;34m)\u001b[0m\u001b[0;34m\u001b[0m\u001b[0;34m\u001b[0m\u001b[0m\n\u001b[0m",
      "\u001b[0;31mFileNotFoundError\u001b[0m: [Errno 2] No such file or directory: 'geojs-31-mun.json'"
     ]
    }
   ],
   "source": [
    "map31 = json.load(open('geojs-31-mun.json', encoding='latin-1'))"
   ]
  },
  {
   "cell_type": "code",
   "execution_count": 306,
   "metadata": {},
   "outputs": [
    {
     "data": {
      "text/plain": [
       "dict"
      ]
     },
     "execution_count": 306,
     "metadata": {},
     "output_type": "execute_result"
    }
   ],
   "source": [
    "type(map31)"
   ]
  },
  {
   "cell_type": "code",
   "execution_count": 307,
   "metadata": {},
   "outputs": [
    {
     "name": "stderr",
     "output_type": "stream",
     "text": [
      "/home/lucas/.local/lib/python3.6/site-packages/pyproj/crs/crs.py:55: FutureWarning: '+init=<authority>:<code>' syntax is deprecated. '<authority>:<code>' is the preferred initialization method. When making the change, be mindful of axis order changes: https://pyproj4.github.io/pyproj/stable/gotchas.html#axis-order-changes-in-proj-6\n",
      "  return _prepare_from_string(\" \".join(pjargs))\n"
     ]
    }
   ],
   "source": [
    "teste = gpd.GeoDataFrame.from_features(requests.get('https://raw.githubusercontent.com/lucasvascrocha/mapa_ternium/master/mapa31.json').json(), crs=fiona.crs.from_epsg(4326))"
   ]
  },
  {
   "cell_type": "code",
   "execution_count": 309,
   "metadata": {},
   "outputs": [
    {
     "data": {
      "text/plain": [
       "geopandas.geodataframe.GeoDataFrame"
      ]
     },
     "execution_count": 309,
     "metadata": {},
     "output_type": "execute_result"
    }
   ],
   "source": [
    "type(teste)"
   ]
  },
  {
   "cell_type": "code",
   "execution_count": null,
   "metadata": {},
   "outputs": [],
   "source": []
  }
 ],
 "metadata": {
  "kernelspec": {
   "display_name": "Python 3",
   "language": "python",
   "name": "python3"
  },
  "language_info": {
   "codemirror_mode": {
    "name": "ipython",
    "version": 3
   },
   "file_extension": ".py",
   "mimetype": "text/x-python",
   "name": "python",
   "nbconvert_exporter": "python",
   "pygments_lexer": "ipython3",
   "version": "3.6.9"
  }
 },
 "nbformat": 4,
 "nbformat_minor": 4
}
